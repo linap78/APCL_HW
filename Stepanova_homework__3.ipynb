{
  "cells": [
    {
      "cell_type": "markdown",
      "id": "371970ff",
      "metadata": {
        "id": "371970ff"
      },
      "source": [
        "# Домашнее задание № 3. Исправление опечаток"
      ]
    },
    {
      "cell_type": "code",
      "source": [
        "!pip install textdistance razdel -q"
      ],
      "metadata": {
        "id": "Zabw69uN2dad"
      },
      "id": "Zabw69uN2dad",
      "execution_count": null,
      "outputs": []
    },
    {
      "cell_type": "code",
      "source": [
        "import os, re\n",
        "from string import punctuation\n",
        "import numpy as np\n",
        "import json\n",
        "from collections import Counter\n",
        "from pprint import pprint\n",
        "from nltk import sent_tokenize\n",
        "punctuation += \"«»—…“”\"\n",
        "punct = set(punctuation)\n",
        "from sklearn.metrics import classification_report, accuracy_score\n",
        "from string import punctuation\n",
        "from razdel import sentenize\n",
        "from razdel import tokenize as razdel_tokenize\n",
        "import numpy as np\n",
        "from sklearn.feature_extraction.text import CountVectorizer\n",
        "from sklearn.metrics.pairwise import cosine_distances\n",
        "import textdistance\n",
        "from collections import defaultdict\n",
        "from tqdm import tqdm"
      ],
      "metadata": {
        "id": "lDGarUoO2a2q"
      },
      "id": "lDGarUoO2a2q",
      "execution_count": 26,
      "outputs": []
    },
    {
      "cell_type": "code",
      "source": [
        "bad = open('sents_with_mistakes.txt', encoding='utf8').read().splitlines()\n",
        "true = open('correct_sents.txt', encoding='utf8').read().splitlines()"
      ],
      "metadata": {
        "id": "mq0l0AxH2rMd"
      },
      "id": "mq0l0AxH2rMd",
      "execution_count": 7,
      "outputs": []
    },
    {
      "cell_type": "code",
      "source": [
        "corpus = open('wiki_data.txt', encoding='utf8').read()"
      ],
      "metadata": {
        "id": "5sG5DNOO22me"
      },
      "id": "5sG5DNOO22me",
      "execution_count": 10,
      "outputs": []
    },
    {
      "cell_type": "code",
      "source": [
        "vocab = Counter(re.findall('\\w+', corpus.lower()))"
      ],
      "metadata": {
        "id": "MP1KWdx523V5"
      },
      "id": "MP1KWdx523V5",
      "execution_count": 11,
      "outputs": []
    },
    {
      "cell_type": "code",
      "source": [
        "word2id = list(vocab.keys())\n",
        "id2word = {i:word for i, word in enumerate(vocab)}\n",
        "\n",
        "\n",
        "vec = CountVectorizer(analyzer='char', max_features=10000, ngram_range=(1,3))\n",
        "X = vec.fit_transform(vocab)"
      ],
      "metadata": {
        "id": "qHyWd43j3GSH"
      },
      "id": "qHyWd43j3GSH",
      "execution_count": 12,
      "outputs": []
    },
    {
      "cell_type": "code",
      "source": [
        "def align_words(sent_1, sent_2):\n",
        "    tokens_1 = sent_1.lower().split()\n",
        "    tokens_2 = sent_2.lower().split()\n",
        "\n",
        "    tokens_1 = [token.strip(punctuation) for token in tokens_1]\n",
        "    tokens_2 = [token.strip(punctuation) for token in tokens_2]\n",
        "\n",
        "    tokens_1 = [token for token in tokens_1 if token]\n",
        "    tokens_2 = [token for token in tokens_2 if token]\n",
        "\n",
        "    assert len(tokens_1) == len(tokens_2)\n",
        "\n",
        "    return list(zip(tokens_1, tokens_2))"
      ],
      "metadata": {
        "id": "s6aEfcKp2wF_"
      },
      "id": "s6aEfcKp2wF_",
      "execution_count": 13,
      "outputs": []
    },
    {
      "cell_type": "markdown",
      "id": "b35cf8bd",
      "metadata": {
        "id": "b35cf8bd"
      },
      "source": [
        "## 1. Доп. ранжирование по вероятности (3 балла)"
      ]
    },
    {
      "cell_type": "markdown",
      "id": "0c6be25c",
      "metadata": {
        "id": "0c6be25c"
      },
      "source": [
        "Дополните get_closest_hybrid_match в семинаре так, чтобы из кандадатов с одинаковым расстоянием редактирования выбиралось наиболее вероятное."
      ]
    },
    {
      "cell_type": "code",
      "execution_count": 20,
      "id": "f8e8814a",
      "metadata": {
        "id": "f8e8814a"
      },
      "outputs": [],
      "source": [
        "def P(word, vocab):\n",
        "    return vocab[word] / sum(vocab.values())\n",
        "\n",
        "def predict_mistaken(word, vocab):\n",
        "    return 0 if word in vocab else 1\n",
        "\n",
        "def get_closest_match_vec(text, X, vec, topn=20):\n",
        "    v = vec.transform([text])\n",
        "    similarities = cosine_distances(v, X)[0]\n",
        "    topn = similarities.argsort()[:topn]\n",
        "\n",
        "    return [(id2word[top], similarities[top]) for top in topn]\n",
        "\n",
        "def get_closest_match_with_metric(text, lookup, vocab, topn=20, metric=textdistance.levenshtein):\n",
        "    similarities = Counter()\n",
        "\n",
        "    for word in lookup:\n",
        "        similarities[word] = (metric.normalized_similarity(text, word), P(word, vocab))\n",
        "\n",
        "    return similarities.most_common(topn)\n",
        "\n",
        "def get_closest_hybrid_match(text, X, vec, vocab, topn=3, metric=textdistance.damerau_levenshtein):\n",
        "    candidates = get_closest_match_vec(text, X, vec, topn*4)\n",
        "    lookup = [cand[0] for cand in candidates]\n",
        "    closest = get_closest_match_with_metric(text, lookup, vocab, topn, metric=metric)\n",
        "\n",
        "\n",
        "    return closest"
      ]
    },
    {
      "cell_type": "code",
      "execution_count": 23,
      "id": "e67f8d02",
      "metadata": {
        "id": "e67f8d02",
        "colab": {
          "base_uri": "https://localhost:8080/"
        },
        "outputId": "1d43322c-53bf-49e4-875a-4e67ad80246d"
      },
      "outputs": [
        {
          "output_type": "execute_result",
          "data": {
            "text/plain": [
              "[('седая', (0.8, 7.759036901785528e-07)),\n",
              " ('сегодня', (0.7142857142857143, 6.730964512298947e-05)),\n",
              " ('средняя', (0.7142857142857143, 6.226627113682887e-05)),\n",
              " ('беседня', (0.7142857142857143, 1.939759225446382e-07)),\n",
              " ('седнев', (0.6666666666666667, 1.939759225446382e-07)),\n",
              " ('бедняк', (0.6666666666666667, 1.939759225446382e-07)),\n",
              " ('соседняя', (0.625, 1.9397592254463824e-06)),\n",
              " ('середняя', (0.625, 1.939759225446382e-07)),\n",
              " ('средняго', (0.625, 1.939759225446382e-07)),\n",
              " ('дня', (0.6, 0.00014276627899285373))]"
            ]
          },
          "metadata": {},
          "execution_count": 23
        }
      ],
      "source": [
        "get_closest_hybrid_match(\"седня\", X, vec, vocab, topn=10)"
      ]
    },
    {
      "cell_type": "markdown",
      "id": "f9cf9985",
      "metadata": {
        "id": "f9cf9985"
      },
      "source": [
        "## 2.  Symspell (7 баллов)"
      ]
    },
    {
      "cell_type": "markdown",
      "id": "9392cc23",
      "metadata": {
        "id": "9392cc23"
      },
      "source": [
        "Реализуйте алгоритм Symspell. Он похож на алгоритм Норвига, но проще и быстрее. Он основан только на одной операции - удалении символа. Описание алгоритма по шагам:\n",
        "\n",
        "1) Составляется словарь правильных слов  \n",
        "2) На основе словаря правильных слов составляется словарь удалений - для каждого правильного слова создаются все варианты удалений и создается словарь, где ключ - слово с удалением, а значение - правильное слово  (!)\n",
        "3) Для выбора исправления для слова с опечаткой генерируются все варианты удаления, из них выбираются те, что есть в словаре удалений, построенного на шаге 2. Слово с опечаткой заменяется на правильное слово, соответствующее варианту удаления  \n",
        "4) Если в словаре удалений есть несколько вариантов, то выбирается удаление, которому соответствует наиболее вероятное правильное слово  \n",
        "\n",
        "\n",
        "Оцените качество полученного алгоритма теми же тремя метриками."
      ]
    },
    {
      "cell_type": "markdown",
      "source": [
        "## Словарь удалений:"
      ],
      "metadata": {
        "id": "Cf-1yjlr9tRc"
      },
      "id": "Cf-1yjlr9tRc"
    },
    {
      "cell_type": "code",
      "execution_count": 28,
      "id": "a298614f",
      "metadata": {
        "id": "a298614f"
      },
      "outputs": [],
      "source": [
        "def get_deletes(word):\n",
        "    return [word[:i] + word[i+1:] for i in range(len(word))]"
      ]
    },
    {
      "cell_type": "code",
      "source": [
        "deletes_dict = defaultdict(set)\n",
        "for word in tqdm(vocab):\n",
        "    for deleted in get_deletes(word):\n",
        "        deletes_dict[deleted].add(word)\n",
        "deletes_dict[\"арактеризовался\"]"
      ],
      "metadata": {
        "colab": {
          "base_uri": "https://localhost:8080/"
        },
        "id": "lELfxLcU970_",
        "outputId": "a9df4703-50e6-43c0-e9bb-d24cbd8252bf"
      },
      "id": "lELfxLcU970_",
      "execution_count": 30,
      "outputs": [
        {
          "output_type": "stream",
          "name": "stderr",
          "text": [
            "100%|██████████| 368802/368802 [00:13<00:00, 28074.15it/s]\n"
          ]
        },
        {
          "output_type": "execute_result",
          "data": {
            "text/plain": [
              "{'характеризовался'}"
            ]
          },
          "metadata": {},
          "execution_count": 30
        }
      ]
    },
    {
      "cell_type": "code",
      "source": [
        "deletes_dict['олько']"
      ],
      "metadata": {
        "colab": {
          "base_uri": "https://localhost:8080/"
        },
        "id": "AQkhCjkm_YdR",
        "outputId": "88d6b8f7-1333-41d8-b0e1-4a4d9fc0d19c"
      },
      "id": "AQkhCjkm_YdR",
      "execution_count": 35,
      "outputs": [
        {
          "output_type": "execute_result",
          "data": {
            "text/plain": [
              "{'ольско', 'только'}"
            ]
          },
          "metadata": {},
          "execution_count": 35
        }
      ]
    },
    {
      "cell_type": "code",
      "source": [
        "P('ольско', vocab)"
      ],
      "metadata": {
        "colab": {
          "base_uri": "https://localhost:8080/"
        },
        "id": "Hra1hyA4CVUO",
        "outputId": "4d69800f-136c-436f-a56e-944ece2c43da"
      },
      "id": "Hra1hyA4CVUO",
      "execution_count": 53,
      "outputs": [
        {
          "output_type": "execute_result",
          "data": {
            "text/plain": [
              "1.939759225446382e-07"
            ]
          },
          "metadata": {},
          "execution_count": 53
        }
      ]
    },
    {
      "cell_type": "code",
      "source": [
        "P('только', vocab)"
      ],
      "metadata": {
        "colab": {
          "base_uri": "https://localhost:8080/"
        },
        "id": "ilEpeQUQCf_P",
        "outputId": "6e1e187c-f572-47d0-8174-15f162a73293"
      },
      "id": "ilEpeQUQCf_P",
      "execution_count": 54,
      "outputs": [
        {
          "output_type": "execute_result",
          "data": {
            "text/plain": [
              "0.0008692061089225239"
            ]
          },
          "metadata": {},
          "execution_count": 54
        }
      ]
    },
    {
      "cell_type": "markdown",
      "source": [
        "## Symspell"
      ],
      "metadata": {
        "id": "Gq1mp8Y0ATzp"
      },
      "id": "Gq1mp8Y0ATzp"
    },
    {
      "cell_type": "code",
      "source": [
        "# дублирую, но пусть будет тут тоже\n",
        "def P(word, vocab):\n",
        "    return vocab[word] / sum(vocab.values())"
      ],
      "metadata": {
        "id": "gzfdbB--AWpb"
      },
      "id": "gzfdbB--AWpb",
      "execution_count": null,
      "outputs": []
    },
    {
      "cell_type": "code",
      "source": [
        "def symspell_correct(word, deletes_dict, vocab):\n",
        "    candidates = set()\n",
        "\n",
        "    if word in deletes_dict:\n",
        "        candidates.update(deletes_dict[word])\n",
        "\n",
        "    if not candidates:\n",
        "        return word\n",
        "\n",
        "    # выбираем наиболее вероятное\n",
        "    return max(candidates, key=lambda w: P(w, vocab))"
      ],
      "metadata": {
        "id": "7zxnh31fAf1V"
      },
      "id": "7zxnh31fAf1V",
      "execution_count": 45,
      "outputs": []
    },
    {
      "cell_type": "code",
      "source": [
        "symspell_correct('олько', deletes_dict, vocab)"
      ],
      "metadata": {
        "colab": {
          "base_uri": "https://localhost:8080/",
          "height": 35
        },
        "id": "WMCYaw-ABCzp",
        "outputId": "4059d2b0-c23e-40dd-e492-9e0828059d3e"
      },
      "id": "WMCYaw-ABCzp",
      "execution_count": 51,
      "outputs": [
        {
          "output_type": "execute_result",
          "data": {
            "text/plain": [
              "'только'"
            ],
            "application/vnd.google.colaboratory.intrinsic+json": {
              "type": "string"
            }
          },
          "metadata": {},
          "execution_count": 51
        }
      ]
    },
    {
      "cell_type": "markdown",
      "source": [
        "## Оценка"
      ],
      "metadata": {
        "id": "dlwCr17iC05i"
      },
      "id": "dlwCr17iC05i"
    },
    {
      "cell_type": "code",
      "source": [
        "mistakes = []\n",
        "total_mistaken = 0\n",
        "mistaken_fixed = 0\n",
        "\n",
        "total_correct = 0\n",
        "correct_broken = 0\n",
        "\n",
        "total = 0\n",
        "correct = 0\n",
        "\n",
        "cashed = {}\n",
        "for i in tqdm(range(len(true))):\n",
        "    word_pairs = align_words(true[i], bad[i])\n",
        "    for pair in word_pairs:\n",
        "        if predict_mistaken(pair[1], vocab):\n",
        "            pred = cashed.get(pair[1], symspell_correct(pair[1], deletes_dict, vocab))\n",
        "            cashed[pair[1]] = pred\n",
        "        else:\n",
        "            pred = pair[1]\n",
        "\n",
        "\n",
        "        if pred == pair[0]:\n",
        "            correct += 1\n",
        "        else:\n",
        "            mistakes.append((pair[0], pair[1], pred))\n",
        "        total += 1\n",
        "\n",
        "        if pair[0] == pair[1]:\n",
        "            total_correct += 1\n",
        "            if pair[0] != pred:\n",
        "                correct_broken += 1\n",
        "        else:\n",
        "            total_mistaken += 1\n",
        "            if pair[0] == pred:\n",
        "                mistaken_fixed += 1"
      ],
      "metadata": {
        "colab": {
          "base_uri": "https://localhost:8080/"
        },
        "id": "hyFaxtuiC2vw",
        "outputId": "15eb4d24-17cf-421c-9995-3cd94b8301f4"
      },
      "id": "hyFaxtuiC2vw",
      "execution_count": 55,
      "outputs": [
        {
          "output_type": "stream",
          "name": "stderr",
          "text": [
            "100%|██████████| 915/915 [00:03<00:00, 239.23it/s]\n"
          ]
        }
      ]
    },
    {
      "cell_type": "code",
      "source": [
        "print(correct/total)\n",
        "print(mistaken_fixed/total_mistaken)\n",
        "print(correct_broken/total_correct)"
      ],
      "metadata": {
        "colab": {
          "base_uri": "https://localhost:8080/"
        },
        "id": "kgrQ8q0MDXRk",
        "outputId": "6b14c846-1aeb-4678-e92d-799ba8087b83"
      },
      "id": "kgrQ8q0MDXRk",
      "execution_count": 56,
      "outputs": [
        {
          "output_type": "stream",
          "name": "stdout",
          "text": [
            "0.8818409204602301\n",
            "0.15993788819875776\n",
            "0.011370161938670036\n"
          ]
        }
      ]
    }
  ],
  "metadata": {
    "kernelspec": {
      "display_name": "Python 3 (ipykernel)",
      "language": "python",
      "name": "python3"
    },
    "language_info": {
      "codemirror_mode": {
        "name": "ipython",
        "version": 3
      },
      "file_extension": ".py",
      "mimetype": "text/x-python",
      "name": "python",
      "nbconvert_exporter": "python",
      "pygments_lexer": "ipython3",
      "version": "3.9.16"
    },
    "colab": {
      "provenance": []
    }
  },
  "nbformat": 4,
  "nbformat_minor": 5
}